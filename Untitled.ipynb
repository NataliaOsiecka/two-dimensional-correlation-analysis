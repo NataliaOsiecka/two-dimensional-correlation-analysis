{
 "cells": [
  {
   "cell_type": "code",
   "execution_count": 1,
   "metadata": {
    "collapsed": true
   },
   "outputs": [],
   "source": [
    "import numpy\n",
    "import matplotlib.pyplot as plt\n",
    "\n",
    "filecsv = \"6ba12_01.csv\"\n",
    "\n",
    "#load IR data from the file\n",
    "def load_datacsv(filename):\n",
    "    csvarray = numpy.loadtxt(fname = filename, delimiter = ',')\n",
    "    intensity = csvarray[:,1:]\n",
    "    wavenumber = csvarray[:,0]\n",
    "    return intensity, wavenumber\n",
    "    \n",
    "intensity, wavenumber = load_datacsv(filecsv)\n",
    "\n",
    "#transpose intensity matrix for ploting the data\n",
    "trans_int = intensity.T\n",
    "\n",
    "#ploting IR spectra\n",
    "for item in trans_int:\n",
    "    plt.plot(wavenumber, item)\n",
    "    \n",
    "plt.show()"
   ]
  },
  {
   "cell_type": "code",
   "execution_count": null,
   "metadata": {
    "collapsed": true
   },
   "outputs": [],
   "source": []
  }
 ],
 "metadata": {
  "kernelspec": {
   "display_name": "Python 3",
   "language": "python",
   "name": "python3"
  },
  "language_info": {
   "codemirror_mode": {
    "name": "ipython",
    "version": 3
   },
   "file_extension": ".py",
   "mimetype": "text/x-python",
   "name": "python",
   "nbconvert_exporter": "python",
   "pygments_lexer": "ipython3",
   "version": "3.5.1"
  }
 },
 "nbformat": 4,
 "nbformat_minor": 0
}
